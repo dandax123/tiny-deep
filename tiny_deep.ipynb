{
 "cells": [
  {
   "cell_type": "code",
   "execution_count": 1,
   "id": "e0fb9751",
   "metadata": {},
   "outputs": [],
   "source": [
    "import numpy as np\n",
    "import sklearn\n",
    "import math\n",
    "import sklearn.datasets\n",
    "from sklearn.model_selection import train_test_split\n",
    "from planar import *\n",
    "import matplotlib.pyplot as plt"
   ]
  },
  {
   "cell_type": "code",
   "execution_count": 2,
   "id": "e9278e8b",
   "metadata": {},
   "outputs": [],
   "source": [
    "\n",
    "def plot_decision_boundary(model, X, y):\n",
    "    # Set min and max values and give it some padding\n",
    "    x_min, x_max = X[0, :].min() - 1, X[0, :].max() + 1\n",
    "    y_min, y_max = X[1, :].min() - 1, X[1, :].max() + 1\n",
    "    h = 0.01\n",
    "    # Generate a grid of points with distance h between them\n",
    "    xx, yy = np.meshgrid(np.arange(x_min, x_max, h), np.arange(y_min, y_max, h))\n",
    "    # Predict the function value for the whole grid\n",
    "    Z = model(np.c_[xx.ravel(), yy.ravel()])\n",
    "    Z = Z.reshape(xx.shape)\n",
    "    # Plot the contour and training examples\n",
    "    plt.contourf(xx, yy, Z, cmap=plt.cm.Spectral)\n",
    "    plt.ylabel('x2')\n",
    "    plt.xlabel('x1')\n",
    "    plt.scatter(X[0, :], X[1, :], c=y, cmap=plt.cm.Spectral)\n",
    "    "
   ]
  },
  {
   "cell_type": "code",
   "execution_count": 3,
   "id": "a021a003",
   "metadata": {},
   "outputs": [],
   "source": [
    "def initalize_parameter(layer_dims=[], initalization_method=\"He\"):\n",
    "    L = len(layer_dims)\n",
    "    parameters = {}\n",
    "\n",
    "    for i in range(1, L):\n",
    "        shape = (layer_dims[i], layer_dims[i - 1])\n",
    "        if initalization_method == \"He\":\n",
    "            parameters[\"W\" + str(i)] = np.random.randn(shape[0], shape[1]) * np.sqrt(\n",
    "                2 / shape[1]\n",
    "            )\n",
    "            parameters[\"b\" + str(i)] = np.zeros((layer_dims[i], 1))\n",
    "        else:\n",
    "            parameters[\"W\" + str(i)] = np.random.randn(shape[0], shape[1]) * 0.01\n",
    "            parameters[\"b\" + str(i)] = np.zeros((layer_dims[i], 1))\n",
    "    # for i in range(1, L):\n",
    "    #     x, y = parameters[\"W\" + str(i)].shape\n",
    "    #     print(f\"W {str(i)} ({x}, {y})\")\n",
    "    return parameters\n"
   ]
  },
  {
   "cell_type": "code",
   "execution_count": 4,
   "id": "b886ac78",
   "metadata": {},
   "outputs": [],
   "source": [
    "def relu_forward(x):\n",
    "    b = (np.where(x > 0, x, x * 0.01), x)\n",
    "    return b\n",
    "\n",
    "\n",
    "def relu_backward(dA, Z):\n",
    "    dx = np.ones_like(Z)\n",
    "    dx[Z < 0] = 0.01\n",
    "    return dA * dx\n",
    "\n",
    "\n",
    "def sigmoid_forward(x):\n",
    "    s = 1 / (1 + np.exp(-x))\n",
    "    c = (s, x)\n",
    "    return c\n",
    "\n",
    "\n",
    "def tanh_forward(z):\n",
    "    d = (np.tanh(z), z)\n",
    "    return d\n",
    "\n",
    "\n",
    "def tanh_backward(z):\n",
    "    return 1\n",
    "\n",
    "\n",
    "def sigmoid_backward(dA, cache):\n",
    "    Z = cache\n",
    "    s, _ = sigmoid_forward(Z)\n",
    "    dZ = dA * (s * (1 - s))\n",
    "    return dZ\n",
    "\n",
    "\n",
    "def softmax_layer(z, c):\n",
    "    return z"
   ]
  },
  {
   "cell_type": "code",
   "execution_count": 5,
   "id": "b5c0d7e4",
   "metadata": {},
   "outputs": [],
   "source": [
    "def linear_forward(A, W, b):\n",
    "    Z = np.dot(W, A) + b\n",
    "    cache = (A, W, b)\n",
    "    return Z, cache\n",
    "\n",
    "\n",
    "def linear_activation_forward(A_prev, W, b, activation_method):\n",
    "    Z, linear_cache = linear_forward(A_prev, W, b)\n",
    "    if activation_method == \"Relu\":\n",
    "        A, activation_cache = relu_forward(Z)\n",
    "    elif activation_method == \"Sigmoid\":\n",
    "        A, activation_cache = sigmoid_forward(Z)\n",
    "    else:\n",
    "        A, activation_cache = tanh_forward(Z)\n",
    "    cache = (linear_cache, activation_cache)\n",
    "    return A, cache\n",
    "\n",
    "\n",
    "def forward_propagation(mini_batch_X, layers, parameters):\n",
    "    caches = []\n",
    "    A = mini_batch_X\n",
    "    L = len(parameters) // 2\n",
    "    for l in range(1, L + 1):\n",
    "        A_prev = A\n",
    "        A, cache = linear_activation_forward(\n",
    "            A_prev,\n",
    "            parameters[\"W\" + str(l)],\n",
    "            parameters[\"b\" + str(l)],\n",
    "            layers[l - 1][\"activation\"],\n",
    "        )\n",
    "        caches.append(cache)\n",
    "    return A, caches"
   ]
  },
  {
   "cell_type": "code",
   "execution_count": 6,
   "id": "7f3cf80c",
   "metadata": {},
   "outputs": [],
   "source": [
    "def linear_backward(dZ, cache, m):\n",
    "    A_prev, W, _ = cache\n",
    "    dW = 1 / m * (np.dot(dZ, A_prev.T))\n",
    "    db = 1 / m * (np.sum(dZ, axis=1, keepdims=True))\n",
    "    dA_Prev = np.dot(W.T, dZ)\n",
    "    # print(dA_Prev.shape)\n",
    "    return (\n",
    "        dA_Prev,\n",
    "        dW,\n",
    "        db,\n",
    "    )\n",
    "\n",
    "\n",
    "def linear_activation_backward(dA, cache, activation_method, m):\n",
    "    linear_cache, activation_cache = cache\n",
    "    if activation_method == \"Relu\":\n",
    "        dZ = relu_backward(dA, activation_cache)\n",
    "    elif activation_method == \"Sigmoid\":\n",
    "        dZ = sigmoid_backward(dA, activation_cache)\n",
    "    else:\n",
    "        dZ = tanh_backward(activation_cache)\n",
    "    return linear_backward(dZ, linear_cache, m)\n",
    "\n",
    "\n",
    "def back_propagation(AL, Y, caches, layers):\n",
    "    # assert(len(caches) == len(layers))\n",
    "    grads = {}\n",
    "    m = AL.shape[1]\n",
    "    Y = Y.reshape(AL.shape)\n",
    "    dA_prev = -(np.divide(Y, AL) - np.divide(1 - Y, 1 - AL))\n",
    "    # print(dA_prev.shape)\n",
    "    # print(\"\")\n",
    "    L = len(layers)\n",
    "    for l in reversed(range(1, L + 1)):\n",
    "        dA = dA_prev\n",
    "        (\n",
    "            dA_prev,\n",
    "            grads[\"dW\" + str(l)],\n",
    "            grads[\"db\" + str(l)],\n",
    "        ) = linear_activation_backward(\n",
    "            dA, caches[l - 1], layers[l - 1][\"activation\"], m\n",
    "        )\n",
    "    return grads\n",
    "\n",
    "\n",
    "def update_parameters(grads, params, learning_rate):\n",
    "    parameters = params.copy()\n",
    "    L = len(parameters) // 2\n",
    "    for l in range(1, L + 1):\n",
    "        parameters[\"W\" + str(l)] -= learning_rate * grads[\"dW\" + str(l)]\n",
    "        parameters[\"b\" + str(l)] -= learning_rate * grads[\"db\" + str(l)]\n",
    "    return parameters"
   ]
  },
  {
   "cell_type": "code",
   "execution_count": 7,
   "id": "9913d544",
   "metadata": {},
   "outputs": [],
   "source": [
    "def compute_cost(AL, Y, m):\n",
    "\n",
    "    logprobs = np.multiply(np.log(AL),Y)  + np.multiply(np.log(1-AL),1-Y)\n",
    "    cost = - 1/m * np.sum(logprobs)  \n",
    "    return cost\n",
    "\n",
    "\n",
    "def get_accuracy_value(Y_hat, Y):\n",
    "    Y_hat_ = convert_prob_into_class(Y_hat)\n",
    "    return (Y_hat_ == Y).all(axis=0).mean()\n",
    "\n",
    "\n",
    "def convert_prob_into_class(probs):\n",
    "    probs_ = np.copy(probs)\n",
    "    probs_[probs_ > 0.5] = 1\n",
    "    probs_[probs_ <= 0.5] = 0\n",
    "    return probs_"
   ]
  },
  {
   "cell_type": "code",
   "execution_count": 8,
   "id": "cde4572a",
   "metadata": {},
   "outputs": [],
   "source": [
    "class Model:\n",
    "    layers = []\n",
    "    inputs = np.array([])\n",
    "    outputs = np.array([])\n",
    "    parameters = {}\n",
    "    grads = {}\n",
    "\n",
    "    def __init__(self, inputs, outputs):\n",
    "        self.inputs = np.array(inputs, dtype=np.float128)\n",
    "        self.outputs = np.array(outputs, dtype=np.float128)\n",
    "        assert self.inputs.shape[1] == self.outputs.shape[1]\n",
    "        self.parameters = {}\n",
    "        self.grads = {}\n",
    "\n",
    "    def get_layer_dims(self):\n",
    "        n_x = self.inputs.shape[0]\n",
    "        layers_dim = [n_x]\n",
    "        for i in self.layers:\n",
    "            layers_dim.append(int(i[\"hidden_unit\"]))\n",
    "        return layers_dim\n",
    "\n",
    "    def add_layer(self, layer_params):\n",
    "        self.layers.append(layer_params)\n",
    "        return self\n",
    "\n",
    "    def batchify(self, mini_batch_size=64):\n",
    "        mini_batches = []\n",
    "        m = self.inputs.shape[1]\n",
    "        # randomize = np.arange(m)\n",
    "        # np.random.shuffle(randomize)\n",
    "        shuffled_X = self.inputs\n",
    "        shuffled_Y = self.outputs\n",
    "        # print(shuffled_X.shape)\n",
    "        num_of_batches = math.floor(m / mini_batch_size)\n",
    "        for k in range(0, num_of_batches):\n",
    "            z = k * mini_batch_size\n",
    "            mini_batch_X = shuffled_X[:, z : z + mini_batch_size]\n",
    "            mini_batch_Y = shuffled_Y[:, z : z + mini_batch_size]\n",
    "            mini_batch = (mini_batch_X, mini_batch_Y)\n",
    "            mini_batches.append(mini_batch)\n",
    "        if m % mini_batch_size != 0:\n",
    "            all_x = num_of_batches * mini_batch_size\n",
    "            mini_batch_X = shuffled_X[:, all_x:]\n",
    "            mini_batch_Y = shuffled_Y[:, all_x:]\n",
    "            mini_batch = (mini_batch_X, mini_batch_Y)\n",
    "            mini_batches.append(mini_batch)\n",
    "        return mini_batches\n",
    "\n",
    "    def train(\n",
    "        self,\n",
    "        batch_size=400,\n",
    "        epoch=100000,\n",
    "        learning_rate=0.5,\n",
    "        lr_decay=True,\n",
    "        decay_rate=1,\n",
    "        initalization_method=\"He\",\n",
    "    ):\n",
    "        mini_batches = self.batchify(batch_size)\n",
    "        layer_dims = self.get_layer_dims()\n",
    "        # print(layer_dims)\n",
    "        self.parameters = initalize_parameter(layer_dims, initalization_method)\n",
    "        for i in range(epoch):\n",
    "            logs = {}\n",
    "            for mini_batch in mini_batches:\n",
    "                (mini_batch_X, mini_batch_Y) = mini_batch\n",
    "                # print(mini_batch_X.shape)\n",
    "                AL, caches = forward_propagation(\n",
    "                    mini_batch_X, self.layers, self.parameters\n",
    "                )\n",
    "                assert AL.shape == mini_batch_Y.shape\n",
    "                cost = compute_cost(AL, mini_batch_Y, batch_size)\n",
    "                grads = back_propagation(AL, mini_batch_Y, caches, self.layers)\n",
    "                if lr_decay:\n",
    "                    learning_rate = (1 / (1 + decay_rate * i)) ** learning_rate\n",
    "\n",
    "                self.parameters = update_parameters(\n",
    "                    grads, self.parameters, learning_rate\n",
    "                )\n",
    "                accuracy = get_accuracy_value(AL, mini_batch_Y)\n",
    "                if i % 100 == 0:\n",
    "                    logs = {\"loss\": cost, \"acc\": accuracy}\n",
    "                    # liveloss.update(logs)\n",
    "                    # liveloss.send()\n",
    "\n",
    "        return self\n",
    "\n",
    "    def predict(self, inputs, outputs=None):\n",
    "        AL, cache = forward_propagation(inputs, self.layers, self.parameters)\n",
    "#         accuracy = get_accuracy_value(AL, outputs)\n",
    "#         print(f\"Accuracy: {accuracy * 100}\")\n",
    "        return convert_prob_into_class(AL)\n"
   ]
  },
  {
   "cell_type": "code",
   "execution_count": 26,
   "id": "d2f0a9dd",
   "metadata": {},
   "outputs": [
    {
     "data": {
      "image/png": "[encoded data removed]",
      "text/plain": [
       "<Figure size 432x288 with 1 Axes>"
      ]
     },
     "metadata": {
      "needs_background": "light"
     },
     "output_type": "display_data"
    }
   ],
   "source": [
    "X, Y = sklearn.datasets.make_circles(n_samples=1500, noise=0.01)\n",
    "train_X, test_X, train_Y, test_Y = train_test_split(X, Y, test_size=0.2)\n",
    "train_X = train_X.T\n",
    "train_Y = train_Y.reshape(1, train_X.shape[1])\n",
    "test_X = test_X.T\n",
    "test_Y = test_Y.reshape(1, test_X.shape[1])\n",
    "plt.scatter(train_X[0, :], train_X[1, :], c=train_Y, s=40, cmap=plt.cm.Spectral);"
   ]
  },
  {
   "cell_type": "code",
   "execution_count": 25,
   "id": "35d62a0e",
   "metadata": {},
   "outputs": [],
   "source": [
    "neural_net = (\n",
    "    Model(train_X, train_Y)\n",
    "    .add_layer({\"hidden_unit\": 6, \"activation\": \"Relu\"})\n",
    "    .add_layer({\"hidden_unit\": 6, \"activation\": \"Relu\"})\n",
    "    .add_layer({\"hidden_unit\": 6, \"activation\": \"Relu\"})\n",
    "    .add_layer({\"hidden_unit\": 6, \"activation\": \"Relu\"})\n",
    "    .add_layer({\"hidden_unit\": 1, \"activation\": \"Sigmoid\"})\n",
    "    .train(initalization_method=\"He\", epoch=2000, learning_rate=1, batch_size=64)\n",
    ")"
   ]
  },
  {
   "cell_type": "code",
   "execution_count": 27,
   "id": "4cd754d1",
   "metadata": {},
   "outputs": [
    {
     "data": {
      "text/plain": [
       "Text(0.5, 1.0, 'Decision Boundary for hidden layer size 4')"
      ]
     },
     "execution_count": 27,
     "metadata": {},
     "output_type": "execute_result"
    },
    {
     "data": {
      "image/png": "[encoded data removed]",
      "text/plain": [
       "<Figure size 432x288 with 1 Axes>"
      ]
     },
     "metadata": {
      "needs_background": "light"
     },
     "output_type": "display_data"
    }
   ],
   "source": [
    "# Build a model with a n_h-dimensional hidden layer\n",
    "\n",
    "\n",
    "# Plot the decision boundary\n",
    "plot_decision_boundary(lambda x: neural_net.predict(x.T), train_X, train_Y)\n",
    "plt.title(\"Decision Boundary for hidden layer size \" + str(4))"
   ]
  },
  {
   "cell_type": "code",
   "execution_count": 11,
   "id": "6614a535",
   "metadata": {},
   "outputs": [
    {
     "name": "stdout",
     "output_type": "stream",
     "text": [
      "(1, 3)\n"
     ]
    }
   ],
   "source": [
    "x = np.array([[ True , False, True]])\n",
    "print(x.shape)"
   ]
  },
  {
   "cell_type": "code",
   "execution_count": null,
   "id": "50cddb51",
   "metadata": {},
   "outputs": [],
   "source": []
  },
  {
   "cell_type": "code",
   "execution_count": null,
   "id": "56145e66",
   "metadata": {},
   "outputs": [],
   "source": []
  },
  {
   "cell_type": "code",
   "execution_count": null,
   "id": "2b316f9e",
   "metadata": {},
   "outputs": [],
   "source": []
  },
  {
   "cell_type": "code",
   "execution_count": null,
   "id": "ecdec0ed",
   "metadata": {},
   "outputs": [],
   "source": []
  },
  {
   "cell_type": "code",
   "execution_count": null,
   "id": "e6b2285b",
   "metadata": {},
   "outputs": [],
   "source": []
  },
  {
   "cell_type": "code",
   "execution_count": null,
   "id": "ad045d43",
   "metadata": {},
   "outputs": [],
   "source": []
  }
 ],
 "metadata": {
  "kernelspec": {
   "display_name": "Python 3 (ipykernel)",
   "language": "python",
   "name": "python3"
  },
  "language_info": {
   "codemirror_mode": {
    "name": "ipython",
    "version": 3
   },
   "file_extension": ".py",
   "mimetype": "text/x-python",
   "name": "python",
   "nbconvert_exporter": "python",
   "pygments_lexer": "ipython3",
   "version": "3.8.8"
  }
 },
 "nbformat": 4,
 "nbformat_minor": 5
}
